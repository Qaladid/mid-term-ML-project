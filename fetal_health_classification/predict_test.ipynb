{
 "cells": [
  {
   "cell_type": "code",
   "execution_count": 1,
   "id": "9b4b6508-0c78-4733-8d35-692d7fe3730e",
   "metadata": {},
   "outputs": [
    {
     "data": {
      "application/javascript": [
       "IPython.notebook.set_autosave_interval(0)"
      ]
     },
     "metadata": {},
     "output_type": "display_data"
    },
    {
     "name": "stdout",
     "output_type": "stream",
     "text": [
      "Autosave disabled\n"
     ]
    }
   ],
   "source": [
    "%autosave 0"
   ]
  },
  {
   "cell_type": "code",
   "execution_count": 13,
   "id": "d792b4b1-8c4a-4e6a-9985-915477c12278",
   "metadata": {},
   "outputs": [],
   "source": [
    "import requests"
   ]
  },
  {
   "cell_type": "code",
   "execution_count": 14,
   "id": "4b4efcf5-47f2-439b-938d-95a3712c88f8",
   "metadata": {},
   "outputs": [],
   "source": [
    "url = 'http://localhost:9696/predict'"
   ]
  },
  {
   "cell_type": "code",
   "execution_count": 15,
   "id": "8f2a791c-3fd1-4ecb-9903-32817ba238b7",
   "metadata": {},
   "outputs": [],
   "source": [
    "fetus = {\n",
    "    \"baseline value\": 140.0,\n",
    "    \"accelerations\": 0.004,\n",
    "    \"fetal_movement\": 0.0,\n",
    "    \"uterine_contractions\": 0.004,\n",
    "    \"light_decelerations\": 0.0,\n",
    "    \"severe_decelerations\": 0.0,\n",
    "    \"prolongued_decelerations\": 0.0,\n",
    "    \"abnormal_short_term_variability\": 80.0,\n",
    "    \"mean_value_of_short_term_variability\": 0.2,\n",
    "    \"percentage_of_time_with_abnormal_long_term_variability\": 36.0,\n",
    "    \"mean_value_of_long_term_variability\": 2.2,\n",
    "    \"histogram_width\": 18.0,\n",
    "    \"histogram_min\": 140.0,\n",
    "    \"histogram_max\": 158.0,\n",
    "    \"histogram_number_of_peaks\": 1.0,\n",
    "    \"histogram_number_of_zeroes\": 0.0,\n",
    "    \"histogram_mode\": 147.0,\n",
    "    \"histogram_mean\": 148.0,\n",
    "    \"histogram_median\": 149.0,\n",
    "    \"histogram_variance\": 1.0,\n",
    "    \"histogram_tendency\": 0.0\n",
    " }"
   ]
  },
  {
   "cell_type": "code",
   "execution_count": 26,
   "id": "04f53849-9f9d-4550-b3bb-5e4d8d3c0ffa",
   "metadata": {},
   "outputs": [
    {
     "data": {
      "text/plain": [
       "{'health_classification': 'pathological',\n",
       " 'probabilities': {'normal': 0.3225681483745575,\n",
       "  'pathological': 0.4676441252231598,\n",
       "  'suspect': 0.20978771150112152},\n",
       " 'specific_class_probability': 0.20978771150112152}"
      ]
     },
     "execution_count": 26,
     "metadata": {},
     "output_type": "execute_result"
    }
   ],
   "source": [
    "response = requests.post(url, json=fetus).json()\n",
    "response"
   ]
  },
  {
   "cell_type": "code",
   "execution_count": null,
   "id": "c5a4f142-370f-4b32-b150-9efd83940d72",
   "metadata": {},
   "outputs": [],
   "source": []
  }
 ],
 "metadata": {
  "kernelspec": {
   "display_name": "Python 3 (ipykernel)",
   "language": "python",
   "name": "python3"
  },
  "language_info": {
   "codemirror_mode": {
    "name": "ipython",
    "version": 3
   },
   "file_extension": ".py",
   "mimetype": "text/x-python",
   "name": "python",
   "nbconvert_exporter": "python",
   "pygments_lexer": "ipython3",
   "version": "3.11.5"
  }
 },
 "nbformat": 4,
 "nbformat_minor": 5
}
